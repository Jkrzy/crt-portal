{
 "cells": [
  {
   "cell_type": "code",
   "execution_count": null,
   "metadata": {},
   "outputs": [],
   "source": [
    "%%capture\n",
    "%load_ext sql\n",
    "%config SqlMagic.feedback = False\n",
    "%config SqlMagic.displaylimit = 0\n",
    "%config SqlMagic.displaycon = False"
   ]
  },
  {
   "cell_type": "code",
   "execution_count": null,
   "metadata": {},
   "outputs": [],
   "source": [
    "import datetime\n",
    "\n",
    "start = datetime.datetime.now() - datetime.timedelta(days=90)\n",
    "end = datetime.datetime.now()"
   ]
  },
  {
   "cell_type": "code",
   "execution_count": null,
   "metadata": {},
   "outputs": [],
   "source": [
    "%%sql repeat_incident_locations <<\n",
    "\n",
    "SELECT location_city_town, location_state, location_name, COUNT(*) count\n",
    "FROM cts_forms_report\n",
    "WHERE location_name notnull\n",
    "AND location_city_town notnull\n",
    "AND location_state notnull\n",
    "GROUP BY location_name, location_city_town, location_state\n",
    "HAVING COUNT(*) > 1\n",
    "ORDER BY count desc"
   ]
  },
  {
   "cell_type": "code",
   "execution_count": 1,
   "metadata": {},
   "outputs": [
    {
     "ename": "ModuleNotFoundError",
     "evalue": "No module named 'numpy'",
     "output_type": "error",
     "traceback": [
      "\u001b[0;31m---------------------------------------------------------------------------\u001b[0m",
      "\u001b[0;31mModuleNotFoundError\u001b[0m                       Traceback (most recent call last)",
      "Cell \u001b[0;32mIn[1], line 2\u001b[0m\n\u001b[1;32m      1\u001b[0m \u001b[39mfrom\u001b[39;00m \u001b[39mIPython\u001b[39;00m\u001b[39m.\u001b[39;00m\u001b[39mdisplay\u001b[39;00m \u001b[39mimport\u001b[39;00m display, HTML\n\u001b[0;32m----> 2\u001b[0m \u001b[39mimport\u001b[39;00m \u001b[39mnumpy\u001b[39;00m \u001b[39mas\u001b[39;00m \u001b[39mnp\u001b[39;00m\n\u001b[1;32m      4\u001b[0m readable_start \u001b[39m=\u001b[39m start\u001b[39m.\u001b[39mstrftime(\u001b[39m\"\u001b[39m\u001b[39m%\u001b[39m\u001b[39mB \u001b[39m\u001b[39m%d\u001b[39;00m\u001b[39m, \u001b[39m\u001b[39m%\u001b[39m\u001b[39mY\u001b[39m\u001b[39m\"\u001b[39m)\n\u001b[1;32m      5\u001b[0m readable_end \u001b[39m=\u001b[39m end\u001b[39m.\u001b[39mstrftime(\u001b[39m\"\u001b[39m\u001b[39m%\u001b[39m\u001b[39mB \u001b[39m\u001b[39m%d\u001b[39;00m\u001b[39m, \u001b[39m\u001b[39m%\u001b[39m\u001b[39mY\u001b[39m\u001b[39m\"\u001b[39m)\n",
      "\u001b[0;31mModuleNotFoundError\u001b[0m: No module named 'numpy'"
     ]
    }
   ],
   "source": [
    "from IPython.display import display, HTML\n",
    "import numpy as np\n",
    "\n",
    "readable_start = start.strftime(\"%B %d, %Y\")\n",
    "readable_end = end.strftime(\"%B %d, %Y\")\n",
    "incident_locations = repeat_incident_locations.DataFrame()\n",
    "cities = incident_locations['location_city_town'].values\n",
    "location_citystate_divs = []\n",
    "location_citystate_dropdown = []\n",
    "location_name_divs = []\n",
    "for i, city in enumerate(cities):\n",
    "    state = incident_locations['location_state'].values[i]\n",
    "    location_citystate_dropdown.append(\n",
    "        f'<option value=\"{city}-{state}\">{city}, {state}</option>'\n",
    "    )\n",
    "    location_name = incident_locations['location_name'].values[i]\n",
    "    count = incident_locations['count'].values[i]\n",
    "    location_name_divs.append(\n",
    "        f\"\"\"<div class=\"flex-align-center city-wrapper {city}-{state} border-bottom border-base-light padding-top-1 padding-bottom-1 flex-row grid-row flex-justify display-flex\">\n",
    "                <strong class=\"grid-col-3\">{location_name}</strong>\n",
    "                <span class=\"grid-col-3\">{city}, {state}</span>\n",
    "                <a class=\"grid-col-3 flex-align-self-end\" href=\"http://localhost:8000/form/view/?location_name={location_name}&location_city_town={city}&location_state={state}&grouping=default\">\n",
    "                    <strong>View {count} reports</strong>\n",
    "                </a>\n",
    "            </div>\n",
    "            \"\"\"\n",
    "    )\n",
    "\n",
    "display(HTML(f\"\"\"\n",
    "    <div class=\"crt-portal-card light maxh-mobile-lg overflow-y-scroll\">\n",
    "    <h3>Repeated incident location names by city</h3>\n",
    "    <select name=\"incident_location_city\" class=\"usa-select incident-location-city\" aria-label=\"Incident location city\">\n",
    "        <option value=\"\">Select a city</option>\n",
    "        {''.join(sorted(np.unique(location_citystate_dropdown)))}\n",
    "    </select>\n",
    "    <p style=\"font-size: 0.75rem\">\n",
    "      <em>Repeated report locations submitted between\n",
    "        <strong>{readable_start}</strong> and\n",
    "        <strong>{readable_end}</strong>\n",
    "      </em>\n",
    "    </p>\n",
    "    <br />\n",
    "     <div class=\"flex-align-center districts flex-row grid-row flex-justify display-flex\">\n",
    "        <strong class=\"grid-col-3\">Location Name</strong>\n",
    "        <strong class=\"grid-col-3\">City, State</strong>\n",
    "        <strong class=\"grid-col-3 flex-align-self-end\"># of Reports</strong>\n",
    "    </div>\n",
    "    <hr />\n",
    "    {''.join(sorted(location_name_divs))}\n",
    "    </div>\n",
    "\"\"\"))"
   ]
  }
 ],
 "metadata": {
  "kernelspec": {
   "display_name": "Python 3",
   "language": "python",
   "name": "python3"
  },
  "language_info": {
   "codemirror_mode": {
    "name": "ipython",
    "version": 3
   },
   "file_extension": ".py",
   "mimetype": "text/x-python",
   "name": "python",
   "nbconvert_exporter": "python",
   "pygments_lexer": "ipython3",
   "version": "3.11.3"
  },
  "orig_nbformat": 4,
  "vscode": {
   "interpreter": {
    "hash": "232eb2f6ad4acac17d9e24b6d0f453226823219613976de71a2e8f62915dfec1"
   }
  }
 },
 "nbformat": 4,
 "nbformat_minor": 2
}
