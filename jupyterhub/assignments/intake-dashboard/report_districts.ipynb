{
 "cells": [
  {
   "cell_type": "code",
   "execution_count": null,
   "metadata": {},
   "outputs": [],
   "source": [
    "%%capture\n",
    "%load_ext sql\n",
    "%config SqlMagic.feedback = False\n",
    "%config SqlMagic.displaylimit = 0\n",
    "%config SqlMagic.displaycon = False"
   ]
  },
  {
   "cell_type": "code",
   "execution_count": null,
   "metadata": {},
   "outputs": [],
   "source": [
    "import datetime\n",
    "\n",
    "start = datetime.datetime.now() - datetime.timedelta(days=90)\n",
    "end = datetime.datetime.now()"
   ]
  },
  {
   "cell_type": "code",
   "execution_count": null,
   "metadata": {},
   "outputs": [],
   "source": [
    "%%sql report_districts <<\n",
    "SELECT \n",
    "    r.district as district,\n",
    "    r.primary_statute as classification,\n",
    "    r.primary_complaint as complaint,\n",
    "    r.location_state as state,\n",
    "    COUNT(*) count\n",
    "FROM cts_forms_report r\n",
    "WHERE district notnull AND primary_complaint notnull\n",
    "GROUP BY complaint, district, classification, state\n",
    "HAVING COUNT(*) > 1\n",
    "ORDER BY count desc"
   ]
  },
  {
   "cell_type": "code",
   "execution_count": null,
   "metadata": {},
   "outputs": [],
   "source": [
    "from IPython.display import display, HTML\n",
    "import numpy as np\n",
    "primary_complaint_choices = {\n",
    "    'workplace': 'Workplace discrimination or other employment-related problem',\n",
    "    'housing': 'Housing discrimination or harassment',\n",
    "    'education': 'Discrimination at a school, educational program or service, or related to receiving education',\n",
    "    'police': 'Mistreated by police, correctional staff, or inmates',\n",
    "    'voting': 'Voting rights or ability to vote affected',\n",
    "    'commercial_or_public': 'Discriminated against in a commercial location or public place',\n",
    "    'something_else': 'Something else happened',\n",
    "}\n",
    "readable_start = start.strftime(\"%B %d, %Y\")\n",
    "readable_end = end.strftime(\"%B %d, %Y\")\n",
    "report_district_data = report_districts.DataFrame()\n",
    "districts = report_district_data['district'].values\n",
    "data_divs = []\n",
    "district_dropdown = []\n",
    "for i, district in enumerate(districts):\n",
    "    district_dropdown.append(\n",
    "        f'<option value=\"{district}\">{district}</option>'\n",
    "    )\n",
    "    complaint_choice = report_district_data['complaint'].values[i]\n",
    "    complaint = primary_complaint_choices.get(complaint_choice)\n",
    "    classification = report_district_data['classification'].values[i]\n",
    "    state = report_district_data['state'].values[i]\n",
    "    count = report_district_data['count'].values[i]\n",
    "    data_divs.append(\n",
    "        f\"\"\"<div class=\"flex-align-center district-wrapper {district} flex-row grid-row flex-justify display-flex border-bottom border-base-light padding-top-1 padding-bottom-1\">\n",
    "            <span class=\"grid-col-3\">{complaint}</span>\n",
    "            <span class=\"grid-col-1\">{district}</span>\n",
    "            <span class=\"grid-col-1\">{state}</span>\n",
    "            <span class=\"grid-col-1\">{classification}</span>\n",
    "            <a class=\"grid-col-2 flex-align-self-end\" href=\"http://localhost:8000/form/view/?district={district}&primary_complaint={complaint}&primary_statute={classification}&grouping=default\">\n",
    "                <strong>View {count} reports</strong>\n",
    "            </a>\n",
    "        </div>\n",
    "    \"\"\")\n",
    "\n",
    "display(HTML(f\"\"\"\n",
    "    <div class=\"crt-portal-card light maxh-mobile-lg overflow-y-scroll\">\n",
    "    <h3>Repeated primary complaints by district</h3>\n",
    "    <select name=\"incident_district\" class=\"usa-select incident-district\" aria-label=\"Incident district\">\n",
    "        <option value=\"\">Select a district</option>\n",
    "        {''.join(sorted(np.unique(district_dropdown)))}\n",
    "    </select>\n",
    "    <p style=\"font-size: 0.75rem\">\n",
    "      <em>Repeated report types by primary complaint and district submitted between\n",
    "        <strong>{readable_start}</strong> and\n",
    "        <strong>{readable_end}</strong>\n",
    "      </em>\n",
    "    </p>\n",
    "    <br />\n",
    "    <div class=\"flex-align-center districts flex-row grid-row flex-justify display-flex\">\n",
    "        <strong class=\"grid-col-3\">Primary complaint</strong>\n",
    "        <strong class=\"grid-col-1\">District</strong>\n",
    "        <strong class=\"grid-col-1\">State</strong>\n",
    "        <strong class=\"grid-col-1\">Classification</strong>\n",
    "        <strong class=\"grid-col-2 flex-align-self-end\"># of Reports</strong>\n",
    "    </div>\n",
    "    <hr />\n",
    "    {''.join(data_divs)}\n",
    "    </div>\n",
    "\"\"\"))\n"
   ]
  }
 ],
 "metadata": {
  "kernelspec": {
   "display_name": "Python 3",
   "language": "python",
   "name": "python3"
  },
  "language_info": {
   "name": "python",
   "version": "3.11.4 (main, Jun  7 2023, 00:34:59) [Clang 14.0.3 (clang-1403.0.22.14.1)]"
  },
  "orig_nbformat": 4,
  "vscode": {
   "interpreter": {
    "hash": "b0fa6594d8f4cbf19f97940f81e996739fb7646882a419484c72d19e05852a7e"
   }
  }
 },
 "nbformat": 4,
 "nbformat_minor": 2
}
