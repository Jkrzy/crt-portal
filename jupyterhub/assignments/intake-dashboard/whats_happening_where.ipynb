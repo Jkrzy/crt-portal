{
 "cells": [
  {
   "cell_type": "code",
   "execution_count": null,
   "metadata": {},
   "outputs": [],
   "source": [
    "%%capture\n",
    "%load_ext sql\n",
    "%config SqlMagic.feedback = False\n",
    "%config SqlMagic.displaylimit = 0\n",
    "%config SqlMagic.displaycon = False"
   ]
  },
  {
   "cell_type": "code",
   "execution_count": null,
   "metadata": {},
   "outputs": [],
   "source": [
    "import datetime\n",
    "\n",
    "start = datetime.datetime.now() - datetime.timedelta(days=365)\n",
    "end = datetime.datetime.now()\n",
    "filterable_start = start.strftime('%Y-%m-%d')"
   ]
  },
  {
   "cell_type": "code",
   "execution_count": null,
   "metadata": {},
   "outputs": [],
   "source": [
    "%%sql repeat_incident_locations <<\n",
    "\n",
    "SELECT\n",
    "    r.location_city_town as city,\n",
    "    r.location_state as state,\n",
    "    UPPER(r.location_name) as name,\n",
    "    COUNT(*) count\n",
    "FROM cts_forms_report r\n",
    "WHERE location_name notnull\n",
    "AND location_name != 'Other'\n",
    "AND location_city_town notnull\n",
    "AND location_state notnull\n",
    "AND create_date >= '{{ start }}'\n",
    "GROUP BY name, city, state\n",
    "HAVING COUNT(*) > 2\n",
    "ORDER BY count desc"
   ]
  },
  {
   "cell_type": "code",
   "execution_count": null,
   "metadata": {},
   "outputs": [],
   "source": [
    "def make_data_div(city, state, location_name, count):\n",
    "    location_citystate_dropdown.append(\n",
    "        f'<option value=\"{city}-{state}\">{city}, {state}</option>'\n",
    "    )\n",
    "    name = location_name.capitalize()\n",
    "    return f\"\"\"<tr class=\"city-wrapper {city}-{state}\">\n",
    "                <td><span tabindex=\"0\">{name}</span></td>\n",
    "                <td><span tabindex=\"0\">{city}, {state}</span></td>\n",
    "                <td><a class=\"display-block\" href=\"/form/view/?location_name={location_name}&location_city_town={city}&location_state={state}&create_date_start={filterable_start}&grouping=default&assigned_section=ADM&assigned_section=APP&assigned_section=CRM&assigned_section=DRS&assigned_section=ELS&assigned_section=EOS&assigned_section=FCS&assigned_section=HCE&assigned_section=IER&assigned_section=POL&assigned_section=SPL&assigned_section=VOT\">\n",
    "                    View {count} reports\n",
    "                </a></td>\n",
    "            </tr>\n",
    "            \"\"\""
   ]
  },
  {
   "cell_type": "code",
   "execution_count": 1,
   "metadata": {},
   "outputs": [
    {
     "ename": "ModuleNotFoundError",
     "evalue": "No module named 'numpy'",
     "output_type": "error",
     "traceback": [
      "\u001b[0;31m---------------------------------------------------------------------------\u001b[0m",
      "\u001b[0;31mModuleNotFoundError\u001b[0m                       Traceback (most recent call last)",
      "Cell \u001b[0;32mIn[1], line 2\u001b[0m\n\u001b[1;32m      1\u001b[0m \u001b[39mfrom\u001b[39;00m \u001b[39mIPython\u001b[39;00m\u001b[39m.\u001b[39;00m\u001b[39mdisplay\u001b[39;00m \u001b[39mimport\u001b[39;00m display, HTML\n\u001b[0;32m----> 2\u001b[0m \u001b[39mimport\u001b[39;00m \u001b[39mnumpy\u001b[39;00m \u001b[39mas\u001b[39;00m \u001b[39mnp\u001b[39;00m\n\u001b[1;32m      4\u001b[0m readable_start \u001b[39m=\u001b[39m start\u001b[39m.\u001b[39mstrftime(\u001b[39m\"\u001b[39m\u001b[39m%\u001b[39m\u001b[39mB \u001b[39m\u001b[39m%d\u001b[39;00m\u001b[39m, \u001b[39m\u001b[39m%\u001b[39m\u001b[39mY\u001b[39m\u001b[39m\"\u001b[39m)\n\u001b[1;32m      5\u001b[0m readable_end \u001b[39m=\u001b[39m end\u001b[39m.\u001b[39mstrftime(\u001b[39m\"\u001b[39m\u001b[39m%\u001b[39m\u001b[39mB \u001b[39m\u001b[39m%d\u001b[39;00m\u001b[39m, \u001b[39m\u001b[39m%\u001b[39m\u001b[39mY\u001b[39m\u001b[39m\"\u001b[39m)\n",
      "\u001b[0;31mModuleNotFoundError\u001b[0m: No module named 'numpy'"
     ]
    }
   ],
   "source": [
    "from IPython.display import display, HTML\n",
    "import numpy as np\n",
    "\n",
    "readable_start = start.strftime(\"%B %d, %Y\")\n",
    "readable_end = end.strftime(\"%B %d, %Y\")\n",
    "incident_locations = repeat_incident_locations.DataFrame()\n",
    "cities = incident_locations['city'].values\n",
    "states = incident_locations['state'].values\n",
    "location_names = incident_locations['name'].values\n",
    "counts = incident_locations['count'].values\n",
    "records = zip(cities, states, location_names, counts)\n",
    "location_citystate_dropdown = []\n",
    "location_name_divs = [\n",
    "  make_data_div(city, state, location_name, count)\n",
    "  for city, state, location_name, count in records\n",
    "]\n",
    "\n",
    "display(HTML(f\"\"\"\n",
    "    <div class=\"crt-portal-card light maxh-mobile-lg overflow-y-scroll\">\n",
    "    <h3>Repeated incident location names by city</h3>\n",
    "    <select name=\"incident_location_city\" class=\"usa-select incident-location-city\" aria-label=\"Incident location city\">\n",
    "        <option value=\"\">Select a city</option>\n",
    "        {''.join(sorted(np.unique(location_citystate_dropdown)))}\n",
    "    </select>\n",
    "    <p style=\"font-size: 1rem\">\n",
    "      <em>Repeated report locations submitted between\n",
    "        <strong>{readable_start}</strong> and\n",
    "        <strong>{readable_end}</strong>\n",
    "      </em>\n",
    "    </p>\n",
    "    <p style=\"font-size: 1rem\">\n",
    "        <em>These results do not account for user typos, misspellings or abbreviations for location names.</em>\n",
    "    </p>\n",
    "    <br />\n",
    "    <div class=\"data-table\">\n",
    "    <table class=\"usa-table crt-table\">\n",
    "     <thead class=\"districts\">\n",
    "        <tr>\n",
    "        <th>\n",
    "        <strong tabindex=\"0\">Location Name</strong>\n",
    "        </th>\n",
    "        <th>\n",
    "        <strong tabindex=\"0\">City, State</strong>\n",
    "        </th>\n",
    "        <th>\n",
    "        <strong tabindex=\"0\"># of Reports</strong>\n",
    "        </th>\n",
    "        </tr>\n",
    "    </thead>\n",
    "    <tbody>\n",
    "    {''.join(location_name_divs)}\n",
    "    </tbody>\n",
    "    </table>\n",
    "    </div>\n",
    "    </div>\n",
    "\"\"\"))"
   ]
  }
 ],
 "metadata": {
  "kernelspec": {
   "display_name": "Python 3",
   "language": "python",
   "name": "python3"
  },
  "language_info": {
   "codemirror_mode": {
    "name": "ipython",
    "version": 3
   },
   "file_extension": ".py",
   "mimetype": "text/x-python",
   "name": "python",
   "nbconvert_exporter": "python",
   "pygments_lexer": "ipython3",
   "version": "3.11.3 (main, Jun 29 2023, 12:59:03) [Clang 14.0.0 (clang-1400.0.29.202)]"
  },
  "orig_nbformat": 4,
  "vscode": {
   "interpreter": {
    "hash": "232eb2f6ad4acac17d9e24b6d0f453226823219613976de71a2e8f62915dfec1"
   }
  }
 },
 "nbformat": 4,
 "nbformat_minor": 2
}
