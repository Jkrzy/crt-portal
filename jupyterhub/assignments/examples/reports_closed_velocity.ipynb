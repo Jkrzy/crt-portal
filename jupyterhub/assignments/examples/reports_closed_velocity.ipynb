{
 "cells": [
  {
   "cell_type": "markdown",
   "metadata": {},
   "source": [
    "Show velocity as a ratio of reports processed vs count of specialists"
   ]
  },
  {
   "cell_type": "code",
   "execution_count": null,
   "metadata": {},
   "outputs": [],
   "source": [
    "%load_ext sql\n",
    "\n",
    "%config SqlMagic.feedback = False\n",
    "\n",
    "%config SqlMagic.displaycon = False"
   ]
  },
  {
   "cell_type": "code",
   "execution_count": null,
   "metadata": {},
   "outputs": [],
   "source": [
    "%%sql --save closed_reports --no-execute\n",
    "SELECT \n",
    "  DATE(a.timestamp) as date,\n",
    "  r.assigned_section as section\n",
    "FROM cts_forms_report r\n",
    "LEFT JOIN actstream_action a\n",
    "ON r.id::TEXT = a.target_object_id\n",
    "WHERE a.verb = 'Status:' and a.description = 'Updated from \"open\" to \"closed\"'\n"
   ]
  },
  {
   "cell_type": "code",
   "execution_count": null,
   "metadata": {},
   "outputs": [],
   "source": [
    "%%sql --save intake_specialists\n",
    "SELECT \n",
    "   COUNT(*) \n",
    "FROM \n",
    "   auth_user\n",
    "WHERE is_staff = true AND is_active = true"
   ]
  },
  {
   "cell_type": "code",
   "execution_count": null,
   "metadata": {},
   "outputs": [],
   "source": [
    "def get_closed_report_count(*, month='6', year='2023'):\n",
    "    count = %sql --with closed_reports SELECT \\\n",
    "            COUNT(*) \\\n",
    "            FROM closed_reports \\\n",
    "            WHERE \\\n",
    "            EXTRACT(YEAR FROM date) = '{{ year }}' \\\n",
    "            AND EXTRACT(MONTH FROM date) = '{{ month }}' \\\n",
    "\n",
    "    return count.DataFrame().fillna(0)['count'][0]"
   ]
  },
  {
   "cell_type": "code",
   "execution_count": null,
   "metadata": {},
   "outputs": [],
   "source": [
    "MONTHS = ['1', '2', '3', '4', '5', '6', '7', '8', '9', '10', '11', '12']\n",
    "monthly_count = []\n",
    "intake_specialists_sql = %sql --with intake_specialists SELECT count FROM intake_specialists\n",
    "intake_specialists_count = intake_specialists_sql.DataFrame().fillna(0)['count'][0]\n",
    "for month in MONTHS:\n",
    "    count = get_closed_report_count(month=month)\n",
    "    monthly_count.append(count/intake_specialists_count)"
   ]
  },
  {
   "cell_type": "code",
   "execution_count": null,
   "metadata": {},
   "outputs": [],
   "source": [
    "import plotly.express as px\n",
    "import pandas as pd\n",
    "df1 = pd.DataFrame(dict(Month=MONTHS))\n",
    "df2 = pd.DataFrame(dict(velocity=monthly_count))\n",
    "fig = px.bar(df1, x=df1.Month, y=df2.velocity, title='Reports closed per intake specialist each month 2023', labels={'y':'Reports Closed'})\n",
    "fig.update_layout(font_size=10, height=500)\n",
    "fig.show()"
   ]
  }
 ],
 "metadata": {
  "kernelspec": {
   "display_name": "Python 3",
   "language": "python",
   "name": "python3"
  },
  "language_info": {
   "name": "python",
   "version": "3.11.4 (main, Apr  7 2023, 20:13:31) [Clang 14.0.0 (clang-1400.0.29.202)]"
  },
  "orig_nbformat": 4,
  "vscode": {
   "interpreter": {
    "hash": "b0fa6594d8f4cbf19f97940f81e996739fb7646882a419484c72d19e05852a7e"
   }
  }
 },
 "nbformat": 4,
 "nbformat_minor": 2
}
