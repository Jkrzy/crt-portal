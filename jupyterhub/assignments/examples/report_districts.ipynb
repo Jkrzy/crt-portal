{
 "cells": [
  {
   "attachments": {},
   "cell_type": "markdown",
   "metadata": {},
   "source": [
    "# District by Section"
   ]
  },
  {
   "cell_type": "code",
   "execution_count": null,
   "metadata": {},
   "outputs": [],
   "source": [
    "%load_ext sql\n",
    "%config SqlMagic.feedback = False\n",
    "%config SqlMagic.displaycon = False"
   ]
  },
  {
   "cell_type": "code",
   "execution_count": null,
   "metadata": {},
   "outputs": [],
   "source": [
    "%%sql --save report_districts\n",
    "SELECT \n",
    "    r.district as district,\n",
    "    r.assigned_section as section,\n",
    "    COUNT(*) count\n",
    "FROM cts_forms_report r\n",
    "WHERE district notnull\n",
    "GROUP BY district, section\n",
    "HAVING COUNT(*) > 1\n",
    "ORDER BY count desc"
   ]
  },
  {
   "cell_type": "code",
   "execution_count": null,
   "metadata": {},
   "outputs": [],
   "source": [
    "import matplotlib as mpl\n",
    "import matplotlib.pyplot as plt\n",
    "import numpy as np\n",
    "%matplotlib inline\n",
    "\n",
    "plt.style.use('_mpl-gallery')\n",
    "\n",
    "plt.rcParams['figure.figsize'] = [4, 4]\n",
    "\n",
    "def make_district_chart(section='(any)'):\n",
    "    results = %sql --with report_districts SELECT * \\\n",
    "        FROM report_districts \\\n",
    "        WHERE \\\n",
    "        '{{section}}' = '(any)' \\\n",
    "        OR ('{{section}}' != '(any)' AND section='{{section}}');\n",
    "    df = results.DataFrame()\n",
    "    count = list(df['count'])\n",
    "    districts = list(df['district'])\n",
    "    y = list(districts)\n",
    "    x = list(count)\n",
    "    fig, ax = plt.subplots()\n",
    "    ax.barh(y, x)\n",
    "    ax.set_xlabel('Number of Reports')\n",
    "    ax.set_ylabel('District')\n",
    "    ax.set_title(f'Reports by District for: {section}')\n",
    "    return plt\n"
   ]
  },
  {
   "cell_type": "code",
   "execution_count": null,
   "metadata": {},
   "outputs": [],
   "source": [
    "sections = %sql SELECT section FROM report_districts GROUP BY 1;\n",
    "sections = sections.DataFrame().section\n",
    "\n",
    "for section in sections:\n",
    "    district_chart = make_district_chart(section)\n",
    "    district_chart.show()\n"
   ]
  }
 ],
 "metadata": {
  "kernelspec": {
   "display_name": "Python 3",
   "language": "python",
   "name": "python3"
  },
  "language_info": {
   "name": "python",
   "version": "3.11.3 (main, Apr  7 2023, 20:13:31) [Clang 14.0.0 (clang-1400.0.29.202)]"
  },
  "orig_nbformat": 4,
  "vscode": {
   "interpreter": {
    "hash": "b0fa6594d8f4cbf19f97940f81e996739fb7646882a419484c72d19e05852a7e"
   }
  }
 },
 "nbformat": 4,
 "nbformat_minor": 2
}
