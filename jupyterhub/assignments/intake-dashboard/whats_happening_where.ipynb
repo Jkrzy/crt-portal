{
 "cells": [
  {
   "cell_type": "code",
   "execution_count": null,
   "metadata": {},
   "outputs": [],
   "source": [
    "%%capture\n",
    "%load_ext sql\n",
    "%config SqlMagic.feedback = False\n",
    "%config SqlMagic.displaylimit = 0\n",
    "%config SqlMagic.displaycon = False"
   ]
  },
  {
   "cell_type": "code",
   "execution_count": null,
   "metadata": {},
   "outputs": [],
   "source": [
    "import datetime\n",
    "\n",
    "start = datetime.datetime.now() - datetime.timedelta(days=90)\n",
    "end = datetime.datetime.now()"
   ]
  },
  {
   "cell_type": "code",
   "execution_count": null,
   "metadata": {},
   "outputs": [],
   "source": [
    "%%sql cities_with_repeat_incident_locations <<\n",
    "\n",
    "SELECT location_city_town, location_name, COUNT(*) count\n",
    "FROM cts_forms_report\n",
    "WHERE location_name notnull\n",
    "GROUP BY location_city_town, location_name\n",
    "HAVING COUNT(*) > 1\n",
    "ORDER BY count desc\n",
    "LIMIT 20"
   ]
  },
  {
   "cell_type": "code",
   "execution_count": null,
   "metadata": {},
   "outputs": [],
   "source": [
    "def get_report_location_names(location_city='(any)'):\n",
    "    results = %sql SELECT location_name, \\\n",
    "            COUNT(*) count \\\n",
    "            FROM cts_forms_report \\\n",
    "            WHERE location_city_town = '{{ location_city }}' \\\n",
    "            GROUP BY location_name \\\n",
    "            HAVING COUNT(*) > 1 \\\n",
    "            ORDER BY count desc \\\n",
    "\n",
    "    return results.DataFrame()"
   ]
  },
  {
   "cell_type": "code",
   "execution_count": null,
   "metadata": {},
   "outputs": [],
   "source": [
    "from IPython.display import display, HTML\n",
    "import numpy as np\n",
    "\n",
    "readable_start = start.strftime(\"%B %d, %Y\")\n",
    "readable_end = end.strftime(\"%B %d, %Y\")\n",
    "city_data = cities_with_repeat_incident_locations.DataFrame()\n",
    "cities = city_data[city_data['location_city_town'].notnull()]['location_city_town'].values\n",
    "location_city_divs = []\n",
    "location_city_dropdown = []\n",
    "for city in np.unique(cities):\n",
    "    location_city_dropdown.append(\n",
    "        f'<option value=\"{city}\">{city}</option>'\n",
    "    )\n",
    "    results = get_report_location_names(city)\n",
    "    location_names = results['location_name'].values\n",
    "    location_name_divs = []\n",
    "    for location_name in location_names:\n",
    "        count = results[results['location_name'] == location_name]['count'].values[0]\n",
    "        location_name_divs.append(\n",
    "            f'<div class=\"flex-row flex-justify display-flex location-{location_name}\"><span>{location_name}</span> <strong>{count}</strong></div><hr/>'\n",
    "        )\n",
    "    location_name_divs = ''.join(location_name_divs)\n",
    "    location_city_divs.append(\n",
    "        f'<div class=\"flex-row flex-justify display-flex city-wrapper {city}\"><span>{location_name_divs}</span></div>'\n",
    "    )\n",
    "\n",
    "display(HTML(f\"\"\"\n",
    "    <div class=\"crt-portal-card light\">\n",
    "    <h3>Location names and report count</h3>\n",
    "    <select name=\"incident_location_city\" class=\"usa-select incident-location-city\" aria-label=\"Incident location city\">\n",
    "        <option value=\"\">Select a city</option>\n",
    "        {''.join(location_city_dropdown)}\n",
    "    </select>\n",
    "    <p style=\"font-size: 0.75rem\">\n",
    "      <em>Repeated report locations submitted between\n",
    "        <strong>{readable_start}</strong> and\n",
    "        <strong>{readable_end}</strong>\n",
    "      </em>\n",
    "    </p>\n",
    "    <br />\n",
    " \n",
    "    {''.join(location_city_divs)}\n",
    "    </div>\n",
    "\"\"\"))"
   ]
  }
 ],
 "metadata": {
  "kernelspec": {
   "display_name": "Python 3",
   "language": "python",
   "name": "python3"
  },
  "language_info": {
   "codemirror_mode": {
    "name": "ipython",
    "version": 3
   },
   "file_extension": ".py",
   "mimetype": "text/x-python",
   "name": "python",
   "nbconvert_exporter": "python",
   "pygments_lexer": "ipython3",
   "version": "3.11.3 (main, Jun 29 2023, 12:59:03) [Clang 14.0.0 (clang-1400.0.29.202)]"
  },
  "orig_nbformat": 4,
  "vscode": {
   "interpreter": {
    "hash": "232eb2f6ad4acac17d9e24b6d0f453226823219613976de71a2e8f62915dfec1"
   }
  }
 },
 "nbformat": 4,
 "nbformat_minor": 2
}
