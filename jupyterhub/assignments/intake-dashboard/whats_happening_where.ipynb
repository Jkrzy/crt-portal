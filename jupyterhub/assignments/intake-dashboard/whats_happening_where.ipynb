{
 "cells": [
  {
   "cell_type": "code",
   "execution_count": null,
   "metadata": {},
   "outputs": [],
   "source": [
    "%%capture\n",
    "%load_ext sql\n",
    "%config SqlMagic.feedback = False\n",
    "%config SqlMagic.displaylimit = 0\n",
    "%config SqlMagic.displaycon = False"
   ]
  },
  {
   "cell_type": "code",
   "execution_count": null,
   "metadata": {},
   "outputs": [],
   "source": [
    "import datetime\n",
    "\n",
    "start = datetime.datetime.now() - datetime.timedelta(days=90)\n",
    "end = datetime.datetime.now()"
   ]
  },
  {
   "cell_type": "code",
   "execution_count": null,
   "metadata": {},
   "outputs": [],
   "source": [
    "%%sql report_locations <<\n",
    "\n",
    "SELECT location_name, COUNT(*) count\n",
    "FROM cts_forms_report\n",
    "WHERE location_name notnull\n",
    "GROUP BY location_name\n",
    "HAVING COUNT(*) > 1\n",
    "ORDER BY count desc\n",
    "LIMIT 10"
   ]
  },
  {
   "cell_type": "code",
   "execution_count": null,
   "metadata": {},
   "outputs": [],
   "source": [
    "from IPython.display import display, HTML\n",
    "\n",
    "readable_start = start.strftime(\"%B %d, %Y\")\n",
    "readable_end = end.strftime(\"%B %d, %Y\")\n",
    "reports = report_locations.DataFrame()\n",
    "locations = []\n",
    "for location in reports[reports['location_name'].notnull()]['location_name'].values:\n",
    "    count = reports[reports['location_name'] == location]['count'].values[0]\n",
    "    locations.append(\n",
    "        f'<div class=\"flex-row flex-justify display-flex location-{location}\"><span>{location}</span> <strong>{count}</strong></div><hr/>'\n",
    "    )\n",
    "\n",
    "display(HTML(f\"\"\"\n",
    "    <div class=\"crt-portal-card light\">\n",
    "    <h3>Location names and report count</h3>\n",
    "    <p style=\"font-size: 0.75rem\">\n",
    "      <em>Repeated report locations submitted between\n",
    "        <strong>{readable_start}</strong> and\n",
    "        <strong>{readable_end}</strong>\n",
    "      </em>\n",
    "    </p>\n",
    "    <br />\n",
    "    {''.join(locations)}\n",
    "    </div>\n",
    "\"\"\"))"
   ]
  }
 ],
 "metadata": {
  "kernelspec": {
   "display_name": "Python 3",
   "language": "python",
   "name": "python3"
  },
  "language_info": {
   "codemirror_mode": {
    "name": "ipython",
    "version": 3
   },
   "file_extension": ".py",
   "mimetype": "text/x-python",
   "name": "python",
   "nbconvert_exporter": "python",
   "pygments_lexer": "ipython3",
   "version": "3.11.3"
  },
  "orig_nbformat": 4,
  "vscode": {
   "interpreter": {
    "hash": "232eb2f6ad4acac17d9e24b6d0f453226823219613976de71a2e8f62915dfec1"
   }
  }
 },
 "nbformat": 4,
 "nbformat_minor": 2
}
